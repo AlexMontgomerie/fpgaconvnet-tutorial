{
 "cells": [
  {
   "cell_type": "markdown",
   "id": "center-conversion",
   "metadata": {},
   "source": [
    "# fpgaConvNet Optimiser Tutorial\n",
    "\n",
    "The [fpgaConvNet Optimiser](https://github.com/AlexMontgomerie/fpgaconvnet-optimiser) is the frontend for generating the dataflow hardware configuration for a given convolutional neural network. In this tutorial, The main aspects to this optimiser will be covered. A step by step guide of stages to the model to hardware description is given. Instructions on using the command-line interface are given towards the end."
   ]
  },
  {
   "cell_type": "markdown",
   "id": "spoken-ordinance",
   "metadata": {},
   "source": [
    "## 1. Initialising a Hardware Model\n",
    "\n",
    "The first step is parsing the CNN model into an initial hardware model. This initial hardware model is a very basic implementation, which maps the CNN layers to their hardware equivalent. "
   ]
  },
  {
   "cell_type": "markdown",
   "id": "corrected-flesh",
   "metadata": {},
   "source": [
    "The first step is to intialise a `Network` model. This class the top-level in the hierarchy of hardware model abstractions."
   ]
  },
  {
   "cell_type": "code",
   "execution_count": null,
   "id": "considered-lingerie",
   "metadata": {},
   "outputs": [],
   "source": []
  }
 ],
 "metadata": {
  "kernelspec": {
   "display_name": "Python 3",
   "language": "python",
   "name": "python3"
  },
  "language_info": {
   "codemirror_mode": {
    "name": "ipython",
    "version": 3
   },
   "file_extension": ".py",
   "mimetype": "text/x-python",
   "name": "python",
   "nbconvert_exporter": "python",
   "pygments_lexer": "ipython3",
   "version": "3.8.5"
  }
 },
 "nbformat": 4,
 "nbformat_minor": 5
}
