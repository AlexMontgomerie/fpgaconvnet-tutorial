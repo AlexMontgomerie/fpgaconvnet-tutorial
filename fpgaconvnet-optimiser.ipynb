{
  "nbformat": 4,
  "nbformat_minor": 5,
  "metadata": {
    "kernelspec": {
      "display_name": "Python 3",
      "language": "python",
      "name": "python3"
    },
    "language_info": {
      "codemirror_mode": {
        "name": "ipython",
        "version": 3
      },
      "file_extension": ".py",
      "mimetype": "text/x-python",
      "name": "python",
      "nbconvert_exporter": "python",
      "pygments_lexer": "ipython3",
      "version": "3.8.5"
    },
    "colab": {
      "name": "fpgaconvnet-optimiser.ipynb",
      "provenance": []
    }
  },
  "cells": [
    {
      "cell_type": "markdown",
      "metadata": {
        "id": "center-conversion"
      },
      "source": [
        "# fpgaConvNet Optimiser Tutorial\n",
        "\n",
        "The [fpgaConvNet Optimiser](https://github.com/AlexMontgomerie/fpgaconvnet-optimiser) is the frontend for generating the dataflow hardware configuration for a given convolutional neural network. In this tutorial, The main aspects to this optimiser will be covered. A step by step guide of stages to the model to hardware description is given. Instructions on using the command-line interface are given towards the end."
      ],
      "id": "center-conversion"
    },
    {
      "cell_type": "markdown",
      "metadata": {
        "id": "spoken-ordinance"
      },
      "source": [
        "## 1. Initialising a Hardware Model\n",
        "\n",
        "The first step is parsing the CNN model into an initial hardware model. This initial hardware model is a very basic implementation, which maps the CNN layers to their hardware equivalent. "
      ],
      "id": "spoken-ordinance"
    },
    {
      "cell_type": "markdown",
      "metadata": {
        "id": "corrected-flesh"
      },
      "source": [
        "The first step is to intialise a `Network` model. This class the top-level in the hierarchy of hardware model abstractions."
      ],
      "id": "corrected-flesh"
    },
    {
      "cell_type": "code",
      "metadata": {
        "id": "considered-lingerie",
        "outputId": "4bad43ec-15c3-412e-a19f-fb02d3a47e21",
        "colab": {
          "base_uri": "https://localhost:8080/"
        }
      },
      "source": [
        "# setup environment\r\n",
        "!python -m pip install fpgaconvnet-optimiser-AlexMontgomerie\r\n",
        "!wget https://www.dropbox.com/s/9ua1diq2fd254ab/lenet.onnx\r\n",
        "!mkdir figures\r\n",
        "from IPython.display import Image"
      ],
      "id": "considered-lingerie",
      "execution_count": null,
      "outputs": [
        {
          "output_type": "stream",
          "text": [
            "Collecting fpgaconvnet-optimiser-AlexMontgomerie\n",
            "\u001b[?25l  Downloading https://files.pythonhosted.org/packages/86/90/9a9c43461b1e9ac3b2a94266e85b356e82a78d0eff0fede63d1ed8519e0d/fpgaconvnet_optimiser_AlexMontgomerie-0.0.4-py3-none-any.whl (84kB)\n",
            "\r\u001b[K     |███▉                            | 10kB 16.9MB/s eta 0:00:01\r\u001b[K     |███████▊                        | 20kB 20.5MB/s eta 0:00:01\r\u001b[K     |███████████▋                    | 30kB 16.6MB/s eta 0:00:01\r\u001b[K     |███████████████▍                | 40kB 11.7MB/s eta 0:00:01\r\u001b[K     |███████████████████▎            | 51kB 8.7MB/s eta 0:00:01\r\u001b[K     |███████████████████████▏        | 61kB 8.2MB/s eta 0:00:01\r\u001b[K     |███████████████████████████     | 71kB 7.9MB/s eta 0:00:01\r\u001b[K     |██████████████████████████████▉ | 81kB 8.6MB/s eta 0:00:01\r\u001b[K     |████████████████████████████████| 92kB 5.4MB/s \n",
            "\u001b[?25hCollecting torch==1.7.1\n",
            "\u001b[?25l  Downloading https://files.pythonhosted.org/packages/90/4f/acf48b3a18a8f9223c6616647f0a011a5713a985336088d7c76f3a211374/torch-1.7.1-cp36-cp36m-manylinux1_x86_64.whl (776.8MB)\n",
            "\u001b[K     |███████████████████             | 462.9MB 1.2MB/s eta 0:04:12"
          ],
          "name": "stdout"
        }
      ]
    },
    {
      "cell_type": "code",
      "metadata": {
        "id": "1uuJhjD3_p93"
      },
      "source": [
        "from fpgaconvnet_optimiser.models.network import Network\r\n",
        "\r\n",
        "# create network\r\n",
        "lenet = Network(\"lenet\", \"lenet.onnx\")\r\n",
        "\r\n",
        "# visualise network\r\n",
        "lenet.visualise(\"figures/lenet_baseline.png\")\r\n",
        "Image(filename=\"figures/lenet_baseline.png\") "
      ],
      "id": "1uuJhjD3_p93",
      "execution_count": null,
      "outputs": []
    },
    {
      "cell_type": "code",
      "metadata": {
        "id": "ZYlp_O4wCaYK"
      },
      "source": [
        "# get all avaiable partitions\r\n",
        "print(\"all horizontal splits: \", lenet.get_all_horizontal_splits(0))\r\n",
        "\r\n",
        "# split all partitions\r\n",
        "lenet.split_horizontal(0,(\"pool2\",\"ip1_6relu1\"))\r\n",
        "\r\n",
        "# visualise network\r\n",
        "lenet.visualise(\"figures/lenet_partitioned.png\")\r\n",
        "Image(filename=\"figures/lenet_partitioned.png\") "
      ],
      "id": "ZYlp_O4wCaYK",
      "execution_count": null,
      "outputs": []
    },
    {
      "cell_type": "code",
      "metadata": {
        "id": "hhhZpZgMEGrf"
      },
      "source": [
        "# show rates before\r\n",
        "print(f\"rate in conv1 (fine = )\")"
      ],
      "id": "hhhZpZgMEGrf",
      "execution_count": null,
      "outputs": []
    }
  ]
}