{
 "cells": [
  {
   "cell_type": "markdown",
   "id": "55fd9a29",
   "metadata": {},
   "source": [
    "# Simple End to End\n",
    "## Generation and simulation of the fpgaconvnet IP\n",
    "\n",
    "This part of the tutorial demonstrates the basic end-to-end flow from an ONNX model to a generated hardware IP. We encourage you to run this example to try our automated toolflow, and then follow the rest of the tutorial which provides a more detailed explanation of our codebase."
   ]
  },
  {
   "cell_type": "code",
   "execution_count": null,
   "id": "16274f3f",
   "metadata": {},
   "outputs": [],
   "source": [
    "import pathlib\n",
    "from fpgaconvnet.parser.Parser import Parser\n",
    "from fpgaconvnet.platform.Platform import Platform\n",
    "from fpgaconvnet.optimiser.solvers import GreedyPartition\n",
    "\n",
    "# load network\n",
    "network_name = \"single_layer\"\n",
    "onnx_path = f\"{network_name}.onnx\"\n",
    "parser = Parser(custom_onnx=False, batch_size=1)\n",
    "net = parser.onnx_to_fpgaconvnet(onnx_path)\n",
    "\n",
    "device_path = \"../../fpgaconvnet-optimiser/examples/platforms/zedboard.toml\"\n",
    "platform = Platform()\n",
    "platform.update(device_path)\n",
    "platform.port_width   = 64\n",
    "\n",
    "# Design Space Exploration\n",
    "opt = GreedyPartition(net, platform)\n",
    "opt.bram_to_lut = False\n",
    "opt.off_chip_streaming = False\n",
    "opt.balance_bram_uram = False\n",
    "opt.rsc_allocation = 0.75\n",
    "opt.transforms = []\n",
    "opt.transforms_probs = []\n",
    "\n",
    "opt.run_solver()\n",
    "opt.update_partitions()\n",
    "\n",
    "# export configuration and prediction report\n",
    "pathlib.Path(network_name).mkdir(parents=True, exist_ok=True)\n",
    "opt.create_report(f\"{network_name}/report.json\")\n",
    "opt.net.save_all_partitions(f\"{network_name}/config.json\")\n",
    "\n",
    "throughput = -opt.get_cost()\n",
    "print(f\"predicted throughput (img/s): {throughput}\")\n",
    "print(f\"predicted resource usage: {net.partitions[0].get_resource_usage()}\")"
   ]
  },
  {
   "cell_type": "code",
   "execution_count": null,
   "id": "24c3a7ec",
   "metadata": {
    "scrolled": true
   },
   "outputs": [],
   "source": [
    "import toml\n",
    "from fpgaconvnet.hls.generate.network import GenerateNetwork\n",
    "\n",
    "with open(device_path, \"r\") as f:\n",
    "    device_name = toml.load(f)[\"device\"][\"part\"]\n",
    "\n",
    "# generate HLS code\n",
    "gen_net = GenerateNetwork(network_name, f\"{network_name}/config.json\", f\"{network_name}.onnx\", device_name)\n",
    "gen_net.create_partition_project(0)"
   ]
  },
  {
   "cell_type": "code",
   "execution_count": null,
   "id": "6168f053-3dcd-44a4-af82-960eb91704ef",
   "metadata": {},
   "outputs": [],
   "source": [
    "import numpy as np\n",
    "\n",
    "input_image = np.random.rand(1,1,28,28).astype(np.float32)\n",
    "# run C simulation\n",
    "gen_net.run_testbench(0, input_image)"
   ]
  },
  {
   "cell_type": "code",
   "execution_count": null,
   "id": "68483e59",
   "metadata": {
    "scrolled": true
   },
   "outputs": [],
   "source": [
    "# run C synthesis and export IP\n",
    "gen_net.generate_partition_hardware(0)"
   ]
  },
  {
   "cell_type": "code",
   "execution_count": null,
   "id": "ee3b2091-3b94-4732-8ebf-f21e5c48a03c",
   "metadata": {},
   "outputs": [],
   "source": [
    "gen_net.run_cosimulation(0, input_image)"
   ]
  },
  {
   "cell_type": "markdown",
   "id": "f2922883",
   "metadata": {},
   "source": [
    "## Troubleshooting \n",
    "1. In `Module.py` and `Module3D.py` from `/fpgaconvnet-model/fpgaconvnet/models/modules/`, comment out the line:\n",
    "   ```python\n",
    "   # from xgboost import XGBRegressor\n",
    "   ```\n",
    "2. If the version of numpy cannot compile, you may need to uninstall numpy and reinstall a downgraded version. Version 2.0.0 is recommended. \n",
    "3. You may be working on a higher version of Linux OS that doesn't support Vivado 2019.1. In this case, Vivado may fail to simulate. Try deleting the ld folder at: `/Xilinx/Vivado/2022.2/tps/lnx64/binutils-2.26/bin/ld`"
   ]
  },
  {
   "cell_type": "markdown",
   "id": "64124e85",
   "metadata": {},
   "source": [
    "## What's next\n",
    "Now that an ip has been generated, you may proceed to `hardware-tutorial.ipynb` to integrate the IP to a project. "
   ]
  }
 ],
 "metadata": {
  "kernelspec": {
   "display_name": "Python 3 (ipykernel)",
   "language": "python",
   "name": "python3"
  },
  "language_info": {
   "codemirror_mode": {
    "name": "ipython",
    "version": 3
   },
   "file_extension": ".py",
   "mimetype": "text/x-python",
   "name": "python",
   "nbconvert_exporter": "python",
   "pygments_lexer": "ipython3",
   "version": "3.10.14"
  }
 },
 "nbformat": 4,
 "nbformat_minor": 5
}
